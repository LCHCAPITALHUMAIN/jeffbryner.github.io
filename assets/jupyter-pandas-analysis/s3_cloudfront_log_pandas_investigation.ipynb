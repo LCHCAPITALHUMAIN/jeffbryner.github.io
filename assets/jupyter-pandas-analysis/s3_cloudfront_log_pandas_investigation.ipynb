{
 "cells": [
  {
   "cell_type": "code",
   "execution_count": 31,
   "metadata": {},
   "outputs": [],
   "source": [
    "import boto3\n",
    "import json\n",
    "import io\n",
    "import gzip\n",
    "from io import BytesIO, TextIOWrapper\n",
    "import yaml\n",
    "from datetime import datetime\n",
    "import pandas as pd"
   ]
  },
  {
   "cell_type": "code",
   "execution_count": 38,
   "metadata": {},
   "outputs": [],
   "source": [
    "# s3 bucket holding our cloudfront logs\n",
    "S3_BUCKET='s3-bucket-with-cloudfront-logs'\n",
    "# the date (or substring) of the log files we are interested in\n",
    "substring=\"2020-04-1\""
   ]
  },
  {
   "cell_type": "code",
   "execution_count": 39,
   "metadata": {},
   "outputs": [],
   "source": [
    "# assumes you have a sane aws environment and perms to access your target bucket\n",
    "s3_client = boto3.client('s3')"
   ]
  },
  {
   "cell_type": "code",
   "execution_count": 40,
   "metadata": {},
   "outputs": [
    {
     "name": "stdout",
     "output_type": "stream",
     "text": [
      "started at 2020-04-20 23:07:51.133946\n",
      "ended at 2020-04-20 23:08:22.510581\n",
      "1670 records loaded\n"
     ]
    }
   ],
   "source": [
    "# the resulting data frame \n",
    "df=None\n",
    "# list of s3 keys\n",
    "keys=[]\n",
    "\n",
    "print(f'started at {datetime.utcnow()}')\n",
    "paginator = s3_client.get_paginator('list_objects_v2')\n",
    "\n",
    "# iterate keys matching the file/key name substring\n",
    "page_iterator = paginator.paginate(\n",
    "    Bucket=S3_BUCKET,\n",
    "    Prefix=\"\")\n",
    "for item in page_iterator.search(f\"Contents[?contains(Key, `{substring}`)][]\"):\n",
    "    if not item['Key'].endswith('/'):    \n",
    "        keys.append(item['Key'])   \n",
    "\n",
    "# enumerate keys and add content to a data frame\n",
    "# assumes the header in all are the same\n",
    "for i,key in enumerate(keys[:]):\n",
    "    # debug if you want to watch along\n",
    "    # print(key)\n",
    "    content=\"\"\n",
    "    s3_response = s3_client.get_object(Bucket=S3_BUCKET, Key=key)\n",
    "    s3_raw_data = s3_response[\"Body\"].read()\n",
    "    if key[-3:] == \".gz\":\n",
    "        with gzip.GzipFile(fileobj=BytesIO(s3_raw_data)) as gzip_stream:\n",
    "            content += \"\".join(TextIOWrapper(gzip_stream,encoding='utf-8'))\n",
    "    else:    \n",
    "        content=s3_response[\"Body\"].read().decode('utf-8')\n",
    "\n",
    "    # get column names\n",
    "    names=list(pd.read_csv(io.StringIO(content),sep=' ',lineterminator='\\n',skiprows=1, nrows=0))\n",
    "    # get rid of the '#Fields:' errant column\n",
    "    names.pop(0)\n",
    "    if i==0:\n",
    "        # initalize the data from from the first s3 key\n",
    "        df=pd.read_csv(io.StringIO(content), sep='\\t', lineterminator='\\n',skiprows=(0,1),names=names)\n",
    "    else:\n",
    "        # append this key's contents to the dataframe we are building\n",
    "        df_csv=pd.read_csv(io.StringIO(content), sep='\\t', lineterminator='\\n',skiprows=(0,1),names=names)\n",
    "        # debug if you are interested in knowing how many records in each file\n",
    "        # print(f\"appending {len(df_csv)} records\")\n",
    "        df=df.append(df_csv)\n",
    "\n",
    "print(f'ended at {datetime.utcnow()}')\n",
    "print(f'{len(df)} records loaded')"
   ]
  },
  {
   "cell_type": "code",
   "execution_count": null,
   "metadata": {},
   "outputs": [],
   "source": [
    "df.head()"
   ]
  },
  {
   "cell_type": "code",
   "execution_count": 8,
   "metadata": {},
   "outputs": [
    {
     "data": {
      "text/plain": [
       "['date',\n",
       " 'time',\n",
       " 'x-edge-location',\n",
       " 'sc-bytes',\n",
       " 'c-ip',\n",
       " 'cs-method',\n",
       " 'cs(Host)',\n",
       " 'cs-uri-stem',\n",
       " 'sc-status',\n",
       " 'cs(Referer)',\n",
       " 'cs(User-Agent)',\n",
       " 'cs-uri-query',\n",
       " 'cs(Cookie)',\n",
       " 'x-edge-result-type',\n",
       " 'x-edge-request-id',\n",
       " 'x-host-header',\n",
       " 'cs-protocol',\n",
       " 'cs-bytes',\n",
       " 'time-taken',\n",
       " 'x-forwarded-for',\n",
       " 'ssl-protocol',\n",
       " 'ssl-cipher',\n",
       " 'x-edge-response-result-type',\n",
       " 'cs-protocol-version',\n",
       " 'fle-status',\n",
       " 'fle-encrypted-fields',\n",
       " 'c-port',\n",
       " 'time-to-first-byte',\n",
       " 'x-edge-detailed-result-type',\n",
       " 'sc-content-type',\n",
       " 'sc-content-len',\n",
       " 'sc-range-start',\n",
       " 'sc-range-end']"
      ]
     },
     "execution_count": 8,
     "metadata": {},
     "output_type": "execute_result"
    }
   ],
   "source": [
    "df.columns.to_list()"
   ]
  },
  {
   "cell_type": "code",
   "execution_count": 9,
   "metadata": {},
   "outputs": [],
   "source": [
    "# Fix up column names to be more friendly\n",
    "df.rename(columns={'cs(Referer)': 'referer'}, inplace=True)\n",
    "#replace any other ones with () to dashes\n",
    "df.columns = df.columns.str.replace('(','-')\n",
    "df.columns = df.columns.str.replace(')','')\n",
    "df.columns = df.columns.str.lower()"
   ]
  },
  {
   "cell_type": "code",
   "execution_count": 45,
   "metadata": {},
   "outputs": [
    {
     "data": {
      "text/plain": [
       "count     2916\n",
       "unique     204\n",
       "top          /\n",
       "freq       757\n",
       "Name: cs-uri-stem, dtype: object"
      ]
     },
     "execution_count": 45,
     "metadata": {},
     "output_type": "execute_result"
    }
   ],
   "source": [
    "df['cs-uri-stem'].describe()"
   ]
  },
  {
   "cell_type": "code",
   "execution_count": null,
   "metadata": {},
   "outputs": [],
   "source": [
    "# top 10 uris\n",
    "df['cs-uri-stem'].value_counts().head(10)"
   ]
  },
  {
   "cell_type": "code",
   "execution_count": 47,
   "metadata": {},
   "outputs": [
    {
     "data": {
      "text/plain": [
       "/wp-config.php_                   1\n",
       "/Fckeditor/editor/                1\n",
       "/admin/Fckeditor/editor/          1\n",
       "/wp-config.bak                    1\n",
       "/apple-touch-icon-152x152.png     1\n",
       "/fckeditor/editor/                1\n",
       "/FCKeditor/editor/                1\n",
       "/contact.html/js/popper.min.js    1\n",
       "/wp-config.php.swp                1\n",
       "/wp-admin/admin-ajax.php          1\n",
       "Name: cs-uri-stem, dtype: int64"
      ]
     },
     "execution_count": 47,
     "metadata": {},
     "output_type": "execute_result"
    }
   ],
   "source": [
    "# bottom 10 uris\n",
    "df['cs-uri-stem'].value_counts().tail(10)"
   ]
  },
  {
   "cell_type": "code",
   "execution_count": 48,
   "metadata": {},
   "outputs": [
    {
     "data": {
      "text/plain": [
       "533"
      ]
     },
     "execution_count": 48,
     "metadata": {},
     "output_type": "execute_result"
    }
   ],
   "source": [
    "len(df[ df['cs-user-agent'].str.contains('bot') ])"
   ]
  },
  {
   "cell_type": "code",
   "execution_count": 49,
   "metadata": {},
   "outputs": [
    {
     "data": {
      "text/plain": [
       "1628"
      ]
     },
     "execution_count": 49,
     "metadata": {},
     "output_type": "execute_result"
    }
   ],
   "source": [
    "# 200 OK\n",
    "len(df[df['sc-status'].isin([200])])"
   ]
  },
  {
   "cell_type": "code",
   "execution_count": 50,
   "metadata": {},
   "outputs": [
    {
     "data": {
      "text/plain": [
       "1288"
      ]
     },
     "execution_count": 50,
     "metadata": {},
     "output_type": "execute_result"
    }
   ],
   "source": [
    "# not OK\n",
    "len(df[~df['sc-status'].isin([200])])"
   ]
  },
  {
   "cell_type": "code",
   "execution_count": 10,
   "metadata": {},
   "outputs": [],
   "source": [
    "# setup columns for easy aliasing of data points\n",
    "# true/false bot status\n",
    "df['bot']=df['cs-user-agent'].str.contains('bot')\n",
    "\n",
    "# true false ok\n",
    "df['ok']=df['sc-status'].isin([200])"
   ]
  },
  {
   "cell_type": "code",
   "execution_count": 52,
   "metadata": {},
   "outputs": [
    {
     "data": {
      "text/plain": [
       "-                                                  353\n",
       "https://facebookfracking.watch/                     10\n",
       "http://facebookfracking.watch/                       5\n",
       "https://www.google.com/                              3\n",
       "https://facebookfracking.watch/updates.html          2\n",
       "http://facebookfrac-out.watch/                       2\n",
       "http://facebookfrac-out.watch                        2\n",
       "https://facebookfracking.watch/contact.html          2\n",
       "https://facebookfrac-out.watch/                      2\n",
       "https://houston.moreover.com/houston/index.html      2\n",
       "https://t.co/uHfvFRtJ0Z                              2\n",
       "http://facebookdrilling.watch/                       2\n",
       "http://facebookdrilling.watch                        1\n",
       "http://facebookfracking.watch                        1\n",
       "Name: referer, dtype: int64"
      ]
     },
     "execution_count": 52,
     "metadata": {},
     "output_type": "execute_result"
    }
   ],
   "source": [
    "# referer counts\n",
    "df[ (df['cs-uri-stem']=='/' ) & (df['ok']) & (df['bot']==False)]['referer'].value_counts()"
   ]
  },
  {
   "cell_type": "code",
   "execution_count": 53,
   "metadata": {},
   "outputs": [
    {
     "data": {
      "text/plain": [
       "/                                            267\n",
       "/robots.txt                                  112\n",
       "/wp-login.php                                 47\n",
       "/admin/                                       18\n",
       "/ads.txt                                      12\n",
       "                                            ... \n",
       "/contact.html/js/jquery-3.3.1.slim.min.js      1\n",
       "/wp-config.php.new                             1\n",
       "/wp-config.php_orig                            1\n",
       "/apple-touch-icon-152x152-precomposed.png      1\n",
       "/admin/Fckeditor/editor/                       1\n",
       "Name: cs-uri-stem, Length: 178, dtype: int64"
      ]
     },
     "execution_count": 53,
     "metadata": {},
     "output_type": "execute_result"
    }
   ],
   "source": [
    "# what's popular that's not a bot, not ok\n",
    "df[(df['bot']==False) & (df['ok']==False)]['cs-uri-stem'].value_counts()"
   ]
  },
  {
   "cell_type": "code",
   "execution_count": 55,
   "metadata": {},
   "outputs": [
    {
     "name": "stdout",
     "output_type": "stream",
     "text": [
      "157.245.82.57\n",
      "157.245.82.57\n",
      "195.154.170.245\n",
      "195.154.170.245\n",
      "195.154.170.245\n",
      "195.154.170.245\n",
      "195.154.170.245\n",
      "195.154.170.245\n",
      "195.154.170.245\n",
      "195.154.170.245\n"
     ]
    }
   ],
   "source": [
    "# find the IP for wordpress probers\n",
    "wp_hackers = df.loc[(df['cs-uri-stem'].str.contains('wp'))].to_dict('records')\n",
    "for record in wp_hackers[:10]:\n",
    "    print(record['c-ip'])"
   ]
  },
  {
   "cell_type": "code",
   "execution_count": null,
   "metadata": {},
   "outputs": [],
   "source": [
    "#common user agents\n",
    "df.loc[df['bot']]['cs-user-agent'].value_counts()"
   ]
  },
  {
   "cell_type": "code",
   "execution_count": 57,
   "metadata": {},
   "outputs": [
    {
     "data": {
      "text/plain": [
       "/robots.txt                       305\n",
       "/                                 284\n",
       "/wp-login.php                      47\n",
       "/admin/                            18\n",
       "/ads.txt                           12\n",
       "                                 ... \n",
       "/wp-admin/admin-ajax.php            1\n",
       "/sitemap                            1\n",
       "/wp-config.php.swp                  1\n",
       "/contact.html/js/popper.min.js      1\n",
       "/apple-touch-icon-152x152.png       1\n",
       "Name: cs-uri-stem, Length: 182, dtype: int64"
      ]
     },
     "execution_count": 57,
     "metadata": {},
     "output_type": "execute_result"
    }
   ],
   "source": [
    "#common hits that are not ok/200\n",
    "df[~df['ok']]['cs-uri-stem'].value_counts()"
   ]
  },
  {
   "cell_type": "code",
   "execution_count": 58,
   "metadata": {},
   "outputs": [
    {
     "data": {
      "text/plain": [
       "count     2916\n",
       "unique       2\n",
       "top       True\n",
       "freq      1628\n",
       "Name: ok, dtype: object"
      ]
     },
     "execution_count": 58,
     "metadata": {},
     "output_type": "execute_result"
    }
   ],
   "source": [
    "# quick counts of the 200/ok hits\n",
    "df['ok'].describe()"
   ]
  },
  {
   "cell_type": "code",
   "execution_count": null,
   "metadata": {},
   "outputs": [],
   "source": [
    "# install jupyter lab/dash prior to the next sections\n",
    "# pipenv install jupyterlab==1.0 jupyterlab-dash==0.1.0a3\n",
    "# jupyter labextension install jupyterlab-dash@0.1.0-alpha.3\n",
    "# jupyter lab"
   ]
  },
  {
   "cell_type": "code",
   "execution_count": 11,
   "metadata": {},
   "outputs": [],
   "source": [
    "# browse records as a dash table\n",
    "import dash\n",
    "import dash_table\n",
    "import dash_html_components as html\n",
    "import jupyterlab_dash"
   ]
  },
  {
   "cell_type": "code",
   "execution_count": 12,
   "metadata": {},
   "outputs": [],
   "source": [
    "viewer = jupyterlab_dash.AppViewer()\n",
    "app = dash.Dash(__name__)\n",
    "app.layout = html.Div([\n",
    "    dash_table.DataTable(\n",
    "        id='datatable-interactivity',\n",
    "        columns=[\n",
    "            {\"name\": i, \"id\": i, \"deletable\": False, \"selectable\": True, \"hideable\": True} for i in df.columns\n",
    "        ],\n",
    "        data=df.to_dict('records'),\n",
    "        editable=True,\n",
    "        filter_action=\"native\",\n",
    "        sort_action=\"native\",\n",
    "        sort_mode=\"multi\",\n",
    "        column_selectable=\"single\",\n",
    "        row_selectable=\"multi\",\n",
    "        row_deletable=True,\n",
    "        selected_columns=[],\n",
    "        selected_rows=[],\n",
    "        page_action=\"native\",\n",
    "        page_current= 0,\n",
    "        page_size= 20,\n",
    "        style_table={'overflowX': 'scroll',\n",
    "                     'overflowY': 'scroll'},\n",
    "        style_cell={\n",
    "            'minWidth': '100px', 'maxWidth': '1080px',\n",
    "            'whiteSpace': 'normal'\n",
    "        },\n",
    "        fixed_rows={ 'headers': True, 'data': 0 },\n",
    "        style_data={\n",
    "            'whiteSpace': 'normal',\n",
    "            'height': 'auto'\n",
    "        },        \n",
    "        style_data_conditional=[\n",
    "            {\n",
    "                'if': {'row_index': 'odd'},\n",
    "                'backgroundColor': 'rgb(248, 248, 248)'\n",
    "            }\n",
    "        ],\n",
    "        style_header={\n",
    "            'backgroundColor': 'rgb(230, 230, 230)',\n",
    "            'fontWeight': 'bold',\n",
    "            'whiteSpace': 'normal',\n",
    "            'height': 'auto',\n",
    "            'overflow': 'hidden',\n",
    "            'textOverflow': 'ellipsis'\n",
    "            \n",
    "        }        \n",
    "    ),\n",
    "    html.Div(id='datatable-interactivity-container')\n",
    "])\n",
    "\n",
    "viewer.show(app)"
   ]
  },
  {
   "cell_type": "code",
   "execution_count": 30,
   "metadata": {},
   "outputs": [
    {
     "name": "stdout",
     "output_type": "stream",
     "text": [
      "A new window should open after running the previous cell, you can also view the table at:\n",
      "http://localhost:8888/proxy/59358\n"
     ]
    }
   ],
   "source": [
    "# get the URL for the dash table for use in another browser window if desired.\n",
    "url=f'{viewer._jupyterlab_url}proxy/{viewer.port}'\n",
    "print(\"A new window should open after running the previous cell, you can also view the table at:\")\n",
    "print(url)"
   ]
  },
  {
   "cell_type": "code",
   "execution_count": null,
   "metadata": {},
   "outputs": [],
   "source": []
  }
 ],
 "metadata": {
  "kernelspec": {
   "display_name": "Python 3",
   "language": "python",
   "name": "python3"
  },
  "language_info": {
   "codemirror_mode": {
    "name": "ipython",
    "version": 3
   },
   "file_extension": ".py",
   "mimetype": "text/x-python",
   "name": "python",
   "nbconvert_exporter": "python",
   "pygments_lexer": "ipython3",
   "version": "3.7.7"
  }
 },
 "nbformat": 4,
 "nbformat_minor": 4
}
